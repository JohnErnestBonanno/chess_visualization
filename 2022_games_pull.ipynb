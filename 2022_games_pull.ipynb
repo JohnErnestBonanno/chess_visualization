{
 "cells": [
  {
   "cell_type": "code",
   "execution_count": 1,
   "id": "43347c49-8693-4bf5-98b9-c7b641bf1975",
   "metadata": {},
   "outputs": [],
   "source": [
    "import pandas as pd\n",
    "import datetime as dt\n",
    "import json\n",
    "\n",
    "#lichess client\n",
    "import berserk\n",
    "pd.options.display.max_columns = None"
   ]
  },
  {
   "cell_type": "code",
   "execution_count": 2,
   "id": "2cc6ac48-e6fe-4b4e-b044-84da00ba8041",
   "metadata": {},
   "outputs": [],
   "source": [
    "df = pd.read_csv('Caladb0lg_games.csv',index_col=0)\n",
    "df['createdAt'] = pd.to_datetime(df['createdAt'])\n",
    "\n",
    "#pulls date of most recent_game from the csv\n",
    "most_recent_game_date = df.createdAt.max()"
   ]
  },
  {
   "cell_type": "code",
   "execution_count": 3,
   "id": "04d1c769-8627-4215-a0d5-168139d7ce71",
   "metadata": {},
   "outputs": [],
   "source": [
    "client = berserk.Client()"
   ]
  },
  {
   "cell_type": "code",
   "execution_count": 4,
   "id": "d0d28a88-8e0b-48e0-a9e9-85b7a4c74849",
   "metadata": {},
   "outputs": [
    {
     "data": {
      "text/plain": [
       "<generator object Games.export_by_player at 0x7fc70f191d60>"
      ]
     },
     "execution_count": 4,
     "metadata": {},
     "output_type": "execute_result"
    }
   ],
   "source": [
    "#https://lichess.org/api#tag/Games/operation/apiGamesUser\n",
    "client.games.export_by_player('Caladb0lg',\n",
    "                              since = str(round(most_recent_game_date.timestamp()*1000)), \n",
    "                              opening = True)"
   ]
  },
  {
   "cell_type": "code",
   "execution_count": 5,
   "id": "c9728f27-6726-4445-a990-5cbd4dd31285",
   "metadata": {},
   "outputs": [],
   "source": [
    "games = list(_)"
   ]
  },
  {
   "cell_type": "code",
   "execution_count": 6,
   "id": "1008095c-2436-4f15-bd7d-7f83634e7a38",
   "metadata": {},
   "outputs": [],
   "source": [
    "df_update = pd.json_normalize(games)"
   ]
  },
  {
   "cell_type": "code",
   "execution_count": 7,
   "id": "22176633-f3dd-42a1-91c5-be088fe9ea35",
   "metadata": {},
   "outputs": [],
   "source": [
    "updated_df = pd.concat([df,df_update])"
   ]
  },
  {
   "cell_type": "code",
   "execution_count": 8,
   "id": "f0211ce8-d8a2-4851-a518-27a8f87a69c1",
   "metadata": {},
   "outputs": [],
   "source": [
    "#drop any duplicated games based on game_id\n",
    "updated_df.drop_duplicates(subset = 'id',inplace=True)"
   ]
  },
  {
   "cell_type": "code",
   "execution_count": 9,
   "id": "599a0011-12e6-463a-9874-55fe6f22e83e",
   "metadata": {},
   "outputs": [],
   "source": [
    "#export updated dataframe to csv\n",
    "updated_df.to_csv('Caladb0lg_games.csv')"
   ]
  },
  {
   "cell_type": "code",
   "execution_count": null,
   "id": "9deab73c-b1a2-44c8-9981-9ddb13651f21",
   "metadata": {},
   "outputs": [],
   "source": []
  }
 ],
 "metadata": {
  "kernelspec": {
   "display_name": "Python 3 (ipykernel)",
   "language": "python",
   "name": "python3"
  },
  "language_info": {
   "codemirror_mode": {
    "name": "ipython",
    "version": 3
   },
   "file_extension": ".py",
   "mimetype": "text/x-python",
   "name": "python",
   "nbconvert_exporter": "python",
   "pygments_lexer": "ipython3",
   "version": "3.9.13"
  }
 },
 "nbformat": 4,
 "nbformat_minor": 5
}
